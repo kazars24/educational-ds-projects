{
 "cells": [
  {
   "cell_type": "markdown",
   "metadata": {},
   "source": [
    "**1) Палиндром**"
   ]
  },
  {
   "cell_type": "code",
   "execution_count": 19,
   "metadata": {},
   "outputs": [
    {
     "name": "stdout",
     "output_type": "stream",
     "text": [
      "Введите число:2\n",
      "Это число - палиндром\n"
     ]
    }
   ],
   "source": [
    "number = int(input('Введите число:'))\n",
    "copy = number\n",
    "new_number = list()\n",
    "num = 0\n",
    "i = 0\n",
    "while copy > 0:\n",
    "    #n = copy % 10\n",
    "    new_number.append(copy % 10)\n",
    "    copy = copy // 10\n",
    "new_number.reverse()    \n",
    "for j in range(len(new_number)):\n",
    "    num += new_number[j] * (10 ** j)\n",
    "num\n",
    "if number == num:\n",
    "    print('Это число - палиндром')\n",
    "else:\n",
    "    print('Это число -  не палиндром')"
   ]
  },
  {
   "cell_type": "markdown",
   "metadata": {},
   "source": [
    "**2) Мини-судоку**"
   ]
  },
  {
   "cell_type": "code",
   "execution_count": 3,
   "metadata": {},
   "outputs": [
    {
     "data": {
      "text/plain": [
       "True"
      ]
     },
     "execution_count": 3,
     "metadata": {},
     "output_type": "execute_result"
    }
   ],
   "source": [
    "arr = [[1,3,2],[9,7,8],[4,5,6]]\n",
    "arr2 = [[1,1,2],[9,7,8],[4,5,6]]\n",
    "def any_duplicates(arr):\n",
    "    arr_set = set()\n",
    "    arr_list = list()\n",
    "    for i in arr:\n",
    "        for j in i:\n",
    "            arr_set.add(j)\n",
    "            arr_list.append(j)\n",
    "    arr_list.sort()\n",
    "    sorted(arr_set)\n",
    "    arr_set = list(arr_set)\n",
    "    if arr_set == arr_list:\n",
    "        return False\n",
    "    else:\n",
    "        return True\n",
    "\n",
    "any_duplicates(arr2)\n",
    "#print(arr_set)\n",
    "#print(arr_list)"
   ]
  },
  {
   "cell_type": "code",
   "execution_count": null,
   "metadata": {},
   "outputs": [],
   "source": []
  }
 ],
 "metadata": {
  "kernelspec": {
   "display_name": "Python 3",
   "language": "python",
   "name": "python3"
  },
  "language_info": {
   "codemirror_mode": {
    "name": "ipython",
    "version": 3
   },
   "file_extension": ".py",
   "mimetype": "text/x-python",
   "name": "python",
   "nbconvert_exporter": "python",
   "pygments_lexer": "ipython3",
   "version": "3.8.5"
  }
 },
 "nbformat": 4,
 "nbformat_minor": 4
}
