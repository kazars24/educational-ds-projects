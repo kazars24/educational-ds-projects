{
  "nbformat": 4,
  "nbformat_minor": 0,
  "metadata": {
    "kernelspec": {
      "display_name": "Python 3",
      "language": "python",
      "name": "python3"
    },
    "language_info": {
      "codemirror_mode": {
        "name": "ipython",
        "version": 3
      },
      "file_extension": ".py",
      "mimetype": "text/x-python",
      "name": "python",
      "nbconvert_exporter": "python",
      "pygments_lexer": "ipython3",
      "version": "3.8.5"
    },
    "colab": {
      "name": "homework_nba_clustering.ipynb",
      "provenance": [],
      "collapsed_sections": []
    }
  },
  "cells": [
    {
      "cell_type": "markdown",
      "metadata": {
        "id": "BKJOSIohZ_L6"
      },
      "source": [
        "## Данные об игроках NBA "
      ]
    },
    {
      "cell_type": "code",
      "metadata": {
        "id": "naHnepQFZ_L9"
      },
      "source": [
        "import numpy as np\n",
        "import pandas as pd\n",
        "\n",
        "%matplotlib inline\n",
        "import matplotlib.pyplot as plt\n",
        "\n",
        "import seaborn as sns\n",
        "\n",
        "%matplotlib inline\n",
        "from matplotlib import pyplot as plt\n",
        "plt.style.use(['seaborn-darkgrid'])\n",
        "plt.rcParams['figure.figsize'] = (12, 9)\n",
        "plt.rcParams['font.family'] = 'DejaVu Sans'\n",
        "\n",
        "from sklearn import metrics\n",
        "from sklearn.cluster import KMeans, AgglomerativeClustering\n",
        "from sklearn.decomposition import PCA\n",
        "from sklearn.model_selection import GridSearchCV\n",
        "from sklearn.preprocessing import StandardScaler\n",
        "from sklearn.metrics import *\n",
        "from sklearn.cluster import DBSCAN\n",
        "\n",
        "import matplotlib.cm as cm\n",
        "from sklearn.manifold import TSNE"
      ],
      "execution_count": null,
      "outputs": []
    },
    {
      "cell_type": "code",
      "metadata": {
        "id": "6C5eHctNZ_MA",
        "outputId": "dc921c8a-cc40-44a2-a1d0-107eb9122e74"
      },
      "source": [
        "nba = pd.read_csv(\"nba_2013.csv\")\n",
        "nba.head()"
      ],
      "execution_count": null,
      "outputs": [
        {
          "output_type": "execute_result",
          "data": {
            "text/html": [
              "<div>\n",
              "<style scoped>\n",
              "    .dataframe tbody tr th:only-of-type {\n",
              "        vertical-align: middle;\n",
              "    }\n",
              "\n",
              "    .dataframe tbody tr th {\n",
              "        vertical-align: top;\n",
              "    }\n",
              "\n",
              "    .dataframe thead th {\n",
              "        text-align: right;\n",
              "    }\n",
              "</style>\n",
              "<table border=\"1\" class=\"dataframe\">\n",
              "  <thead>\n",
              "    <tr style=\"text-align: right;\">\n",
              "      <th></th>\n",
              "      <th>player</th>\n",
              "      <th>pos</th>\n",
              "      <th>age</th>\n",
              "      <th>bref_team_id</th>\n",
              "      <th>g</th>\n",
              "      <th>gs</th>\n",
              "      <th>mp</th>\n",
              "      <th>fg</th>\n",
              "      <th>fga</th>\n",
              "      <th>fg.</th>\n",
              "      <th>...</th>\n",
              "      <th>drb</th>\n",
              "      <th>trb</th>\n",
              "      <th>ast</th>\n",
              "      <th>stl</th>\n",
              "      <th>blk</th>\n",
              "      <th>tov</th>\n",
              "      <th>pf</th>\n",
              "      <th>pts</th>\n",
              "      <th>season</th>\n",
              "      <th>season_end</th>\n",
              "    </tr>\n",
              "  </thead>\n",
              "  <tbody>\n",
              "    <tr>\n",
              "      <th>0</th>\n",
              "      <td>Quincy Acy</td>\n",
              "      <td>SF</td>\n",
              "      <td>23</td>\n",
              "      <td>TOT</td>\n",
              "      <td>63</td>\n",
              "      <td>0</td>\n",
              "      <td>847</td>\n",
              "      <td>66</td>\n",
              "      <td>141</td>\n",
              "      <td>0.468</td>\n",
              "      <td>...</td>\n",
              "      <td>144</td>\n",
              "      <td>216</td>\n",
              "      <td>28</td>\n",
              "      <td>23</td>\n",
              "      <td>26</td>\n",
              "      <td>30</td>\n",
              "      <td>122</td>\n",
              "      <td>171</td>\n",
              "      <td>2013-2014</td>\n",
              "      <td>2013</td>\n",
              "    </tr>\n",
              "    <tr>\n",
              "      <th>1</th>\n",
              "      <td>Steven Adams</td>\n",
              "      <td>C</td>\n",
              "      <td>20</td>\n",
              "      <td>OKC</td>\n",
              "      <td>81</td>\n",
              "      <td>20</td>\n",
              "      <td>1197</td>\n",
              "      <td>93</td>\n",
              "      <td>185</td>\n",
              "      <td>0.503</td>\n",
              "      <td>...</td>\n",
              "      <td>190</td>\n",
              "      <td>332</td>\n",
              "      <td>43</td>\n",
              "      <td>40</td>\n",
              "      <td>57</td>\n",
              "      <td>71</td>\n",
              "      <td>203</td>\n",
              "      <td>265</td>\n",
              "      <td>2013-2014</td>\n",
              "      <td>2013</td>\n",
              "    </tr>\n",
              "    <tr>\n",
              "      <th>2</th>\n",
              "      <td>Jeff Adrien</td>\n",
              "      <td>PF</td>\n",
              "      <td>27</td>\n",
              "      <td>TOT</td>\n",
              "      <td>53</td>\n",
              "      <td>12</td>\n",
              "      <td>961</td>\n",
              "      <td>143</td>\n",
              "      <td>275</td>\n",
              "      <td>0.520</td>\n",
              "      <td>...</td>\n",
              "      <td>204</td>\n",
              "      <td>306</td>\n",
              "      <td>38</td>\n",
              "      <td>24</td>\n",
              "      <td>36</td>\n",
              "      <td>39</td>\n",
              "      <td>108</td>\n",
              "      <td>362</td>\n",
              "      <td>2013-2014</td>\n",
              "      <td>2013</td>\n",
              "    </tr>\n",
              "    <tr>\n",
              "      <th>3</th>\n",
              "      <td>Arron Afflalo</td>\n",
              "      <td>SG</td>\n",
              "      <td>28</td>\n",
              "      <td>ORL</td>\n",
              "      <td>73</td>\n",
              "      <td>73</td>\n",
              "      <td>2552</td>\n",
              "      <td>464</td>\n",
              "      <td>1011</td>\n",
              "      <td>0.459</td>\n",
              "      <td>...</td>\n",
              "      <td>230</td>\n",
              "      <td>262</td>\n",
              "      <td>248</td>\n",
              "      <td>35</td>\n",
              "      <td>3</td>\n",
              "      <td>146</td>\n",
              "      <td>136</td>\n",
              "      <td>1330</td>\n",
              "      <td>2013-2014</td>\n",
              "      <td>2013</td>\n",
              "    </tr>\n",
              "    <tr>\n",
              "      <th>4</th>\n",
              "      <td>Alexis Ajinca</td>\n",
              "      <td>C</td>\n",
              "      <td>25</td>\n",
              "      <td>NOP</td>\n",
              "      <td>56</td>\n",
              "      <td>30</td>\n",
              "      <td>951</td>\n",
              "      <td>136</td>\n",
              "      <td>249</td>\n",
              "      <td>0.546</td>\n",
              "      <td>...</td>\n",
              "      <td>183</td>\n",
              "      <td>277</td>\n",
              "      <td>40</td>\n",
              "      <td>23</td>\n",
              "      <td>46</td>\n",
              "      <td>63</td>\n",
              "      <td>187</td>\n",
              "      <td>328</td>\n",
              "      <td>2013-2014</td>\n",
              "      <td>2013</td>\n",
              "    </tr>\n",
              "  </tbody>\n",
              "</table>\n",
              "<p>5 rows × 31 columns</p>\n",
              "</div>"
            ],
            "text/plain": [
              "          player pos  age bref_team_id   g  gs    mp   fg   fga    fg.  ...  \\\n",
              "0     Quincy Acy  SF   23          TOT  63   0   847   66   141  0.468  ...   \n",
              "1   Steven Adams   C   20          OKC  81  20  1197   93   185  0.503  ...   \n",
              "2    Jeff Adrien  PF   27          TOT  53  12   961  143   275  0.520  ...   \n",
              "3  Arron Afflalo  SG   28          ORL  73  73  2552  464  1011  0.459  ...   \n",
              "4  Alexis Ajinca   C   25          NOP  56  30   951  136   249  0.546  ...   \n",
              "\n",
              "   drb  trb  ast  stl  blk  tov   pf   pts     season  season_end  \n",
              "0  144  216   28   23   26   30  122   171  2013-2014        2013  \n",
              "1  190  332   43   40   57   71  203   265  2013-2014        2013  \n",
              "2  204  306   38   24   36   39  108   362  2013-2014        2013  \n",
              "3  230  262  248   35    3  146  136  1330  2013-2014        2013  \n",
              "4  183  277   40   23   46   63  187   328  2013-2014        2013  \n",
              "\n",
              "[5 rows x 31 columns]"
            ]
          },
          "metadata": {
            "tags": []
          },
          "execution_count": 2
        }
      ]
    },
    {
      "cell_type": "code",
      "metadata": {
        "id": "qpJ6ZJQzZ_MF"
      },
      "source": [
        "#оставляем только числовые признаки\n",
        "nba = nba[['age','g', 'gs', 'mp', 'fg', 'fga',\n",
        "       'fg.', 'x3p', 'x3pa', 'x3p.', 'x2p', 'x2pa', 'x2p.', 'efg.', 'ft',\n",
        "       'fta', 'ft.', 'orb', 'drb', 'trb', 'ast', 'stl', 'blk', 'tov', 'pf','pts']] "
      ],
      "execution_count": null,
      "outputs": []
    },
    {
      "cell_type": "code",
      "metadata": {
        "id": "0YpAjDtkZ_MH",
        "outputId": "df98ecb9-5c2f-4f2f-f091-f63def5ece50"
      },
      "source": [
        "nba.describe()"
      ],
      "execution_count": null,
      "outputs": [
        {
          "output_type": "execute_result",
          "data": {
            "text/html": [
              "<div>\n",
              "<style scoped>\n",
              "    .dataframe tbody tr th:only-of-type {\n",
              "        vertical-align: middle;\n",
              "    }\n",
              "\n",
              "    .dataframe tbody tr th {\n",
              "        vertical-align: top;\n",
              "    }\n",
              "\n",
              "    .dataframe thead th {\n",
              "        text-align: right;\n",
              "    }\n",
              "</style>\n",
              "<table border=\"1\" class=\"dataframe\">\n",
              "  <thead>\n",
              "    <tr style=\"text-align: right;\">\n",
              "      <th></th>\n",
              "      <th>age</th>\n",
              "      <th>g</th>\n",
              "      <th>gs</th>\n",
              "      <th>mp</th>\n",
              "      <th>fg</th>\n",
              "      <th>fga</th>\n",
              "      <th>fg.</th>\n",
              "      <th>x3p</th>\n",
              "      <th>x3pa</th>\n",
              "      <th>x3p.</th>\n",
              "      <th>...</th>\n",
              "      <th>ft.</th>\n",
              "      <th>orb</th>\n",
              "      <th>drb</th>\n",
              "      <th>trb</th>\n",
              "      <th>ast</th>\n",
              "      <th>stl</th>\n",
              "      <th>blk</th>\n",
              "      <th>tov</th>\n",
              "      <th>pf</th>\n",
              "      <th>pts</th>\n",
              "    </tr>\n",
              "  </thead>\n",
              "  <tbody>\n",
              "    <tr>\n",
              "      <th>count</th>\n",
              "      <td>481.000000</td>\n",
              "      <td>481.000000</td>\n",
              "      <td>481.000000</td>\n",
              "      <td>481.000000</td>\n",
              "      <td>481.000000</td>\n",
              "      <td>481.000000</td>\n",
              "      <td>479.000000</td>\n",
              "      <td>481.000000</td>\n",
              "      <td>481.000000</td>\n",
              "      <td>414.000000</td>\n",
              "      <td>...</td>\n",
              "      <td>461.000000</td>\n",
              "      <td>481.000000</td>\n",
              "      <td>481.000000</td>\n",
              "      <td>481.000000</td>\n",
              "      <td>481.000000</td>\n",
              "      <td>481.000000</td>\n",
              "      <td>481.000000</td>\n",
              "      <td>481.000000</td>\n",
              "      <td>481.000000</td>\n",
              "      <td>481.000000</td>\n",
              "    </tr>\n",
              "    <tr>\n",
              "      <th>mean</th>\n",
              "      <td>26.509356</td>\n",
              "      <td>53.253638</td>\n",
              "      <td>25.571726</td>\n",
              "      <td>1237.386694</td>\n",
              "      <td>192.881497</td>\n",
              "      <td>424.463617</td>\n",
              "      <td>0.436436</td>\n",
              "      <td>39.613306</td>\n",
              "      <td>110.130977</td>\n",
              "      <td>0.285111</td>\n",
              "      <td>...</td>\n",
              "      <td>0.722419</td>\n",
              "      <td>55.810811</td>\n",
              "      <td>162.817048</td>\n",
              "      <td>218.627859</td>\n",
              "      <td>112.536383</td>\n",
              "      <td>39.280665</td>\n",
              "      <td>24.103950</td>\n",
              "      <td>71.862786</td>\n",
              "      <td>105.869023</td>\n",
              "      <td>516.582121</td>\n",
              "    </tr>\n",
              "    <tr>\n",
              "      <th>std</th>\n",
              "      <td>4.198265</td>\n",
              "      <td>25.322711</td>\n",
              "      <td>29.658465</td>\n",
              "      <td>897.258840</td>\n",
              "      <td>171.832793</td>\n",
              "      <td>368.850833</td>\n",
              "      <td>0.098672</td>\n",
              "      <td>50.855639</td>\n",
              "      <td>132.751732</td>\n",
              "      <td>0.157633</td>\n",
              "      <td>...</td>\n",
              "      <td>0.160166</td>\n",
              "      <td>62.101191</td>\n",
              "      <td>145.348116</td>\n",
              "      <td>200.356507</td>\n",
              "      <td>131.019557</td>\n",
              "      <td>34.783590</td>\n",
              "      <td>30.875381</td>\n",
              "      <td>62.701690</td>\n",
              "      <td>71.213627</td>\n",
              "      <td>470.422228</td>\n",
              "    </tr>\n",
              "    <tr>\n",
              "      <th>min</th>\n",
              "      <td>19.000000</td>\n",
              "      <td>1.000000</td>\n",
              "      <td>0.000000</td>\n",
              "      <td>1.000000</td>\n",
              "      <td>0.000000</td>\n",
              "      <td>0.000000</td>\n",
              "      <td>0.000000</td>\n",
              "      <td>0.000000</td>\n",
              "      <td>0.000000</td>\n",
              "      <td>0.000000</td>\n",
              "      <td>...</td>\n",
              "      <td>0.000000</td>\n",
              "      <td>0.000000</td>\n",
              "      <td>0.000000</td>\n",
              "      <td>0.000000</td>\n",
              "      <td>0.000000</td>\n",
              "      <td>0.000000</td>\n",
              "      <td>0.000000</td>\n",
              "      <td>0.000000</td>\n",
              "      <td>0.000000</td>\n",
              "      <td>0.000000</td>\n",
              "    </tr>\n",
              "    <tr>\n",
              "      <th>25%</th>\n",
              "      <td>23.000000</td>\n",
              "      <td>32.000000</td>\n",
              "      <td>0.000000</td>\n",
              "      <td>388.000000</td>\n",
              "      <td>47.000000</td>\n",
              "      <td>110.000000</td>\n",
              "      <td>0.400500</td>\n",
              "      <td>0.000000</td>\n",
              "      <td>3.000000</td>\n",
              "      <td>0.234355</td>\n",
              "      <td>...</td>\n",
              "      <td>0.654000</td>\n",
              "      <td>12.000000</td>\n",
              "      <td>43.000000</td>\n",
              "      <td>55.000000</td>\n",
              "      <td>20.000000</td>\n",
              "      <td>9.000000</td>\n",
              "      <td>4.000000</td>\n",
              "      <td>21.000000</td>\n",
              "      <td>44.000000</td>\n",
              "      <td>115.000000</td>\n",
              "    </tr>\n",
              "    <tr>\n",
              "      <th>50%</th>\n",
              "      <td>26.000000</td>\n",
              "      <td>61.000000</td>\n",
              "      <td>10.000000</td>\n",
              "      <td>1141.000000</td>\n",
              "      <td>146.000000</td>\n",
              "      <td>332.000000</td>\n",
              "      <td>0.438000</td>\n",
              "      <td>16.000000</td>\n",
              "      <td>48.000000</td>\n",
              "      <td>0.330976</td>\n",
              "      <td>...</td>\n",
              "      <td>0.751000</td>\n",
              "      <td>35.000000</td>\n",
              "      <td>135.000000</td>\n",
              "      <td>168.000000</td>\n",
              "      <td>65.000000</td>\n",
              "      <td>32.000000</td>\n",
              "      <td>14.000000</td>\n",
              "      <td>58.000000</td>\n",
              "      <td>104.000000</td>\n",
              "      <td>401.000000</td>\n",
              "    </tr>\n",
              "    <tr>\n",
              "      <th>75%</th>\n",
              "      <td>29.000000</td>\n",
              "      <td>76.000000</td>\n",
              "      <td>54.000000</td>\n",
              "      <td>2016.000000</td>\n",
              "      <td>307.000000</td>\n",
              "      <td>672.000000</td>\n",
              "      <td>0.479500</td>\n",
              "      <td>68.000000</td>\n",
              "      <td>193.000000</td>\n",
              "      <td>0.375000</td>\n",
              "      <td>...</td>\n",
              "      <td>0.821000</td>\n",
              "      <td>73.000000</td>\n",
              "      <td>230.000000</td>\n",
              "      <td>310.000000</td>\n",
              "      <td>152.000000</td>\n",
              "      <td>60.000000</td>\n",
              "      <td>32.000000</td>\n",
              "      <td>108.000000</td>\n",
              "      <td>158.000000</td>\n",
              "      <td>821.000000</td>\n",
              "    </tr>\n",
              "    <tr>\n",
              "      <th>max</th>\n",
              "      <td>39.000000</td>\n",
              "      <td>83.000000</td>\n",
              "      <td>82.000000</td>\n",
              "      <td>3122.000000</td>\n",
              "      <td>849.000000</td>\n",
              "      <td>1688.000000</td>\n",
              "      <td>1.000000</td>\n",
              "      <td>261.000000</td>\n",
              "      <td>615.000000</td>\n",
              "      <td>1.000000</td>\n",
              "      <td>...</td>\n",
              "      <td>1.000000</td>\n",
              "      <td>440.000000</td>\n",
              "      <td>783.000000</td>\n",
              "      <td>1114.000000</td>\n",
              "      <td>721.000000</td>\n",
              "      <td>191.000000</td>\n",
              "      <td>219.000000</td>\n",
              "      <td>295.000000</td>\n",
              "      <td>273.000000</td>\n",
              "      <td>2593.000000</td>\n",
              "    </tr>\n",
              "  </tbody>\n",
              "</table>\n",
              "<p>8 rows × 26 columns</p>\n",
              "</div>"
            ],
            "text/plain": [
              "              age           g          gs           mp          fg  \\\n",
              "count  481.000000  481.000000  481.000000   481.000000  481.000000   \n",
              "mean    26.509356   53.253638   25.571726  1237.386694  192.881497   \n",
              "std      4.198265   25.322711   29.658465   897.258840  171.832793   \n",
              "min     19.000000    1.000000    0.000000     1.000000    0.000000   \n",
              "25%     23.000000   32.000000    0.000000   388.000000   47.000000   \n",
              "50%     26.000000   61.000000   10.000000  1141.000000  146.000000   \n",
              "75%     29.000000   76.000000   54.000000  2016.000000  307.000000   \n",
              "max     39.000000   83.000000   82.000000  3122.000000  849.000000   \n",
              "\n",
              "               fga         fg.         x3p        x3pa        x3p.  ...  \\\n",
              "count   481.000000  479.000000  481.000000  481.000000  414.000000  ...   \n",
              "mean    424.463617    0.436436   39.613306  110.130977    0.285111  ...   \n",
              "std     368.850833    0.098672   50.855639  132.751732    0.157633  ...   \n",
              "min       0.000000    0.000000    0.000000    0.000000    0.000000  ...   \n",
              "25%     110.000000    0.400500    0.000000    3.000000    0.234355  ...   \n",
              "50%     332.000000    0.438000   16.000000   48.000000    0.330976  ...   \n",
              "75%     672.000000    0.479500   68.000000  193.000000    0.375000  ...   \n",
              "max    1688.000000    1.000000  261.000000  615.000000    1.000000  ...   \n",
              "\n",
              "              ft.         orb         drb          trb         ast  \\\n",
              "count  461.000000  481.000000  481.000000   481.000000  481.000000   \n",
              "mean     0.722419   55.810811  162.817048   218.627859  112.536383   \n",
              "std      0.160166   62.101191  145.348116   200.356507  131.019557   \n",
              "min      0.000000    0.000000    0.000000     0.000000    0.000000   \n",
              "25%      0.654000   12.000000   43.000000    55.000000   20.000000   \n",
              "50%      0.751000   35.000000  135.000000   168.000000   65.000000   \n",
              "75%      0.821000   73.000000  230.000000   310.000000  152.000000   \n",
              "max      1.000000  440.000000  783.000000  1114.000000  721.000000   \n",
              "\n",
              "              stl         blk         tov          pf          pts  \n",
              "count  481.000000  481.000000  481.000000  481.000000   481.000000  \n",
              "mean    39.280665   24.103950   71.862786  105.869023   516.582121  \n",
              "std     34.783590   30.875381   62.701690   71.213627   470.422228  \n",
              "min      0.000000    0.000000    0.000000    0.000000     0.000000  \n",
              "25%      9.000000    4.000000   21.000000   44.000000   115.000000  \n",
              "50%     32.000000   14.000000   58.000000  104.000000   401.000000  \n",
              "75%     60.000000   32.000000  108.000000  158.000000   821.000000  \n",
              "max    191.000000  219.000000  295.000000  273.000000  2593.000000  \n",
              "\n",
              "[8 rows x 26 columns]"
            ]
          },
          "metadata": {
            "tags": []
          },
          "execution_count": 4
        }
      ]
    },
    {
      "cell_type": "markdown",
      "metadata": {
        "id": "1FRf5msDZ_MJ"
      },
      "source": [
        "#### Расшифровка некоторых колонок:\n",
        "\n",
        "player — name of the player\n",
        "\n",
        "pos — the position of the player\n",
        "\n",
        "g — number of games the player was in\n",
        "\n",
        "gs — number of games the player started\n",
        "\n",
        "pts — total points the player scored\n",
        "\n",
        "ast - the total number of assists the player had in the season.\n",
        "\n",
        "fg. - the player's field goal percentage for the season.\n",
        "\n",
        "подробнее об остальных https://www.basketball-reference.com/about/glossary.html "
      ]
    },
    {
      "cell_type": "markdown",
      "metadata": {
        "id": "EGWtzMJSZ_MK"
      },
      "source": [
        "## Задание\n",
        "\n",
        "\n",
        "1) Замените пропуски во всех колонках на медиану с помощью SimpleImputer  (Без этих преобразований алгоритмы кластеризации не будут работать из-за пропусков!)"
      ]
    },
    {
      "cell_type": "code",
      "metadata": {
        "id": "v6d_t6i7Z_ML",
        "outputId": "40d28ab0-8479-4301-accd-455feee8a0bb"
      },
      "source": [
        "nba.isnull().sum(axis=0)"
      ],
      "execution_count": null,
      "outputs": [
        {
          "output_type": "execute_result",
          "data": {
            "text/plain": [
              "age      0\n",
              "g        0\n",
              "gs       0\n",
              "mp       0\n",
              "fg       0\n",
              "fga      0\n",
              "fg.      2\n",
              "x3p      0\n",
              "x3pa     0\n",
              "x3p.    67\n",
              "x2p      0\n",
              "x2pa     0\n",
              "x2p.     3\n",
              "efg.     2\n",
              "ft       0\n",
              "fta      0\n",
              "ft.     20\n",
              "orb      0\n",
              "drb      0\n",
              "trb      0\n",
              "ast      0\n",
              "stl      0\n",
              "blk      0\n",
              "tov      0\n",
              "pf       0\n",
              "pts      0\n",
              "dtype: int64"
            ]
          },
          "metadata": {
            "tags": []
          },
          "execution_count": 5
        }
      ]
    },
    {
      "cell_type": "code",
      "metadata": {
        "id": "YUydg11fZ_MN"
      },
      "source": [
        "from sklearn.impute import SimpleImputer\n",
        "imputer = SimpleImputer(missing_values = np.nan, strategy ='median')\n",
        "imputer = imputer.fit(nba)\n",
        "nba = imputer.transform(nba)"
      ],
      "execution_count": null,
      "outputs": []
    },
    {
      "cell_type": "code",
      "metadata": {
        "id": "KqBiI_kiZ_MO",
        "outputId": "b375dbd0-34de-4750-9dcf-9112bc1a0299"
      },
      "source": [
        "nba"
      ],
      "execution_count": null,
      "outputs": [
        {
          "output_type": "execute_result",
          "data": {
            "text/plain": [
              "array([[  23.,   63.,    0., ...,   30.,  122.,  171.],\n",
              "       [  20.,   81.,   20., ...,   71.,  203.,  265.],\n",
              "       [  27.,   53.,   12., ...,   39.,  108.,  362.],\n",
              "       ...,\n",
              "       [  25.,   79.,   78., ...,  165.,  213., 1417.],\n",
              "       [  21.,   82.,    3., ...,   87.,  170.,  490.],\n",
              "       [  24.,   70.,    9., ...,   60.,  137.,  399.]])"
            ]
          },
          "metadata": {
            "tags": []
          },
          "execution_count": 7
        }
      ]
    },
    {
      "cell_type": "markdown",
      "metadata": {
        "id": "PDDGvaAFZ_MP"
      },
      "source": [
        "2) Стандартизируйте все признаки с помощью MinMaxScaler"
      ]
    },
    {
      "cell_type": "code",
      "metadata": {
        "id": "TZ23hVG2Z_MP"
      },
      "source": [
        "from sklearn.preprocessing import MinMaxScaler\n",
        "scaler = MinMaxScaler()\n",
        "nba = scaler.fit_transform(nba)\n"
      ],
      "execution_count": null,
      "outputs": []
    },
    {
      "cell_type": "code",
      "metadata": {
        "id": "59KB6YUhZ_MQ",
        "outputId": "ffc53834-fec1-440f-bef8-906f159959b7"
      },
      "source": [
        "nba"
      ],
      "execution_count": null,
      "outputs": [
        {
          "output_type": "execute_result",
          "data": {
            "text/plain": [
              "array([[0.2       , 0.75609756, 0.        , ..., 0.10169492, 0.44688645,\n",
              "        0.06594678],\n",
              "       [0.05      , 0.97560976, 0.24390244, ..., 0.24067797, 0.74358974,\n",
              "        0.10219823],\n",
              "       [0.4       , 0.63414634, 0.14634146, ..., 0.13220339, 0.3956044 ,\n",
              "        0.13960663],\n",
              "       ...,\n",
              "       [0.3       , 0.95121951, 0.95121951, ..., 0.55932203, 0.78021978,\n",
              "        0.54647127],\n",
              "       [0.1       , 0.98780488, 0.03658537, ..., 0.29491525, 0.62271062,\n",
              "        0.1889703 ],\n",
              "       [0.25      , 0.84146341, 0.1097561 , ..., 0.20338983, 0.5018315 ,\n",
              "        0.15387582]])"
            ]
          },
          "metadata": {
            "tags": []
          },
          "execution_count": 9
        }
      ]
    },
    {
      "cell_type": "markdown",
      "metadata": {
        "id": "s-yorbSFZ_MQ"
      },
      "source": [
        "Будем работать с преобразованным датасетом.\n",
        "\n",
        "### Попробуйте кластеризовать данные при помощи KMeans\n",
        "\n",
        "1. Постройте график инерции (кол-во кластеров от 1 до 10)\n",
        "\n",
        "Определите по методу локтя оптимальное число кластеров"
      ]
    },
    {
      "cell_type": "code",
      "metadata": {
        "id": "nnRFJHLkZ_MR",
        "outputId": "c0bae40f-55bf-4e4e-fe9a-c659a44fcbe0"
      },
      "source": [
        "inertia = []\n",
        "k = range(1, 10)\n",
        "for k_i in k:\n",
        "    kmeans=KMeans(n_clusters=k_i,n_init=100,random_state=123)\n",
        "    kmeans.fit(nba)\n",
        "    inertia.append(kmeans.inertia_)\n",
        "    \n",
        "plt.plot(k, inertia)\n",
        "plt.xlabel('k')\n",
        "plt.ylabel('inercia')"
      ],
      "execution_count": null,
      "outputs": [
        {
          "output_type": "execute_result",
          "data": {
            "text/plain": [
              "Text(0, 0.5, 'inercia')"
            ]
          },
          "metadata": {
            "tags": []
          },
          "execution_count": 10
        },
        {
          "output_type": "display_data",
          "data": {
            "image/png": "[encoded data removed]",
            "text/plain": [
              "<Figure size 864x648 with 1 Axes>"
            ]
          },
          "metadata": {
            "tags": []
          }
        }
      ]
    },
    {
      "cell_type": "markdown",
      "metadata": {
        "id": "Y32MtKM1Z_MS"
      },
      "source": [
        "2. Постройте график силуета (silhoette_score) (кол-во кластеров от 1 до 10)\n"
      ]
    },
    {
      "cell_type": "code",
      "metadata": {
        "id": "sD2cAB4oZ_MS",
        "outputId": "97f15f92-29b2-4a45-da5f-9130f803daa3"
      },
      "source": [
        "from sklearn.metrics import silhouette_score\n",
        "silhouette = []\n",
        "k = range(2, 10)\n",
        "for k_i in k:\n",
        "    kmeans=KMeans(n_clusters=k_i,n_init=100,random_state=123)\n",
        "    kmeans.fit(nba)\n",
        "    silhouette.append(silhouette_score(nba, kmeans.labels_))\n",
        "print(silhouette)\n",
        "plt.plot(k, silhouette)\n",
        "plt.xlabel('k')\n",
        "plt.ylabel('silhouette')"
      ],
      "execution_count": null,
      "outputs": [
        {
          "output_type": "stream",
          "text": [
            "[0.40983850855986453, 0.29125636778070163, 0.29217066964099253, 0.24462866076317788, 0.20088008907346733, 0.20611916258822977, 0.2063065434465122, 0.18793623030867007]\n"
          ],
          "name": "stdout"
        },
        {
          "output_type": "execute_result",
          "data": {
            "text/plain": [
              "Text(0, 0.5, 'silhouette')"
            ]
          },
          "metadata": {
            "tags": []
          },
          "execution_count": 11
        },
        {
          "output_type": "display_data",
          "data": {
            "image/png": "[encoded data removed]",
            "text/plain": [
              "<Figure size 864x648 with 1 Axes>"
            ]
          },
          "metadata": {
            "tags": []
          }
        }
      ]
    },
    {
      "cell_type": "markdown",
      "metadata": {
        "id": "XmWsP_j5Z_MT"
      },
      "source": [
        "3. Постройте график силуета для каждого кластера отдельно, для этого воспользуйтесь функцией clusters_stats\n",
        "\n",
        "Пример вызова clusters_stats:"
      ]
    },
    {
      "cell_type": "code",
      "metadata": {
        "id": "ro1K1aCkZ_MT"
      },
      "source": [
        "def clusters_stats(n_clusters, clusters, X):\n",
        "    fig, ax1 = plt.subplots(1, 1)\n",
        "    ax1.set_xlim([-0.1, 1])\n",
        "    ax1.set_ylim([0, len(X) + (n_clusters + 1) * 10])\n",
        "\n",
        "    silhouette_avg = silhouette_score(X, clusters)\n",
        "    print(\"For n_clusters =\", n_clusters, \"The average silhouette_score is :\", silhouette_avg)\n",
        "\n",
        "    # Compute the silhouette scores for each sample\n",
        "    sample_silhouette_values = silhouette_samples(X, clusters)\n",
        "\n",
        "    y_lower = 10\n",
        "    for i in range(n_clusters):\n",
        "        # Aggregate the silhouette scores for samples belonging to\n",
        "        # cluster i, and sort them\n",
        "        ith_cluster_silhouette_values = \\\n",
        "            sample_silhouette_values[clusters == i]\n",
        "\n",
        "        ith_cluster_silhouette_values.sort()\n",
        "\n",
        "        size_cluster_i = ith_cluster_silhouette_values.shape[0]\n",
        "        y_upper = y_lower + size_cluster_i\n",
        "        \n",
        "        cmap = cm.get_cmap(\"Spectral\")\n",
        "        color = cmap(float(i) / n_clusters)\n",
        "        ax1.fill_betweenx(np.arange(y_lower, y_upper),\n",
        "                          0, ith_cluster_silhouette_values,\n",
        "                          facecolor=color, edgecolor=color, alpha=0.7)\n",
        "\n",
        "        # Label the silhouette plots with their cluster numbers at the middle\n",
        "        ax1.text(-0.05, y_lower + 0.5 * size_cluster_i, str(i))\n",
        "\n",
        "        # Compute the new y_lower for next plot\n",
        "        y_lower = y_upper + 10  # 10 for the 0 samples\n",
        "\n",
        "    ax1.set_title(\"The silhouette plot for the various clusters.\")\n",
        "    ax1.set_xlabel(\"The silhouette coefficient values\")\n",
        "    ax1.set_ylabel(\"Cluster label\")\n",
        "\n",
        "    # The vertical line for average silhouette score of all the values\n",
        "    ax1.axvline(x=silhouette_avg, color=\"red\", linestyle=\"--\")\n",
        "\n",
        "    ax1.set_yticks([])  # Clear the yaxis labels / ticks\n",
        "    ax1.set_xticks([-0.1, 0, 0.2, 0.4, 0.6, 0.8, 1])\n",
        "\n",
        "    plt.suptitle((\"Silhouette analysis for KMeans clustering on sample data \"\n",
        "                  \"with n_clusters = %d\" % n_clusters),\n",
        "                 fontsize=14, fontweight='bold')\n",
        "\n",
        "    plt.show()\n"
      ],
      "execution_count": null,
      "outputs": []
    },
    {
      "cell_type": "code",
      "metadata": {
        "id": "wFaRsfdFZ_MV",
        "outputId": "b909766e-c684-4883-83da-8612bd2324b1"
      },
      "source": [
        "n_clusters = 3\n",
        "kmeans = KMeans(n_clusters=n_clusters)\n",
        "kmeans.fit(nba)\n",
        "clusters = kmeans.predict(nba)\n",
        "clusters_stats(n_clusters, clusters,nba )"
      ],
      "execution_count": null,
      "outputs": [
        {
          "output_type": "stream",
          "text": [
            "For n_clusters = 3 The average silhouette_score is : 0.29125636778070163\n"
          ],
          "name": "stdout"
        },
        {
          "output_type": "display_data",
          "data": {
            "image/png": "[encoded data removed]",
            "text/plain": [
              "<Figure size 864x648 with 1 Axes>"
            ]
          },
          "metadata": {
            "tags": []
          }
        }
      ]
    },
    {
      "cell_type": "code",
      "metadata": {
        "id": "n6Xg8iWsZ_MW",
        "outputId": "0a56f282-48ed-40db-f51f-c0114311a104"
      },
      "source": [
        "n_clusters = 6\n",
        "kmeans = KMeans(n_clusters=n_clusters)\n",
        "kmeans.fit(nba)\n",
        "clusters = kmeans.predict(nba)\n",
        "clusters_stats(n_clusters, clusters,nba )"
      ],
      "execution_count": null,
      "outputs": [
        {
          "output_type": "stream",
          "text": [
            "For n_clusters = 6 The average silhouette_score is : 0.20226427001747527\n"
          ],
          "name": "stdout"
        },
        {
          "output_type": "display_data",
          "data": {
            "image/png": "[encoded data removed]",
            "text/plain": [
              "<Figure size 864x648 with 1 Axes>"
            ]
          },
          "metadata": {
            "tags": []
          }
        }
      ]
    },
    {
      "cell_type": "markdown",
      "metadata": {
        "id": "FqTmBfr9Z_MX"
      },
      "source": [
        "Проанализируйте полученный результат и определите оптимальное число кластеров. Чему оно равно?"
      ]
    },
    {
      "cell_type": "markdown",
      "metadata": {
        "id": "eVcw8xeLZ_MX"
      },
      "source": [
        "4. Уменьшите количество признаков в исходном датасете nba до 2 с помощью TSNE c параметром perplexity=30. Результат запишите в таблицу tsne_representation."
      ]
    },
    {
      "cell_type": "code",
      "metadata": {
        "id": "-aVWY0cEZ_MX",
        "outputId": "f0f6b568-058b-4bae-d3ff-1c9838db8ff5"
      },
      "source": [
        "tsne_representation = TSNE(n_components=2, perplexity=30).fit_transform(nba)\n",
        "tsne_representation"
      ],
      "execution_count": null,
      "outputs": [
        {
          "output_type": "execute_result",
          "data": {
            "text/plain": [
              "array([[ 5.21167135e+00, -4.42484808e+00],\n",
              "       [ 2.60339308e+00, -7.47526789e+00],\n",
              "       [ 6.64745903e+00, -5.69004869e+00],\n",
              "       [-1.96597462e+01, -1.76690121e+01],\n",
              "       [ 5.89787483e+00, -9.99239445e+00],\n",
              "       [ 1.20996628e+01,  9.82193410e-01],\n",
              "       [-2.79105244e+01, -1.06407614e+01],\n",
              "       [ 4.69312620e+00, -7.32429790e+00],\n",
              "       [-7.96760273e+00,  1.95137322e+00],\n",
              "       [-2.63032985e+00,  8.87785625e+00],\n",
              "       [-2.15291653e+01, -5.63862085e+00],\n",
              "       [ 1.68913498e+01,  2.15186539e+01],\n",
              "       [ 4.71624756e+00, -1.29595156e+01],\n",
              "       [-6.66603947e+00,  2.87669122e-01],\n",
              "       [-1.54192657e+01, -1.02582483e+01],\n",
              "       [ 1.53594341e+01,  1.57885802e+00],\n",
              "       [-4.70432758e+00, -7.14953756e+00],\n",
              "       [-2.70503330e+01, -2.07639427e+01],\n",
              "       [ 1.30342903e+01,  1.77246914e+01],\n",
              "       [-8.13458800e-01,  5.05776834e+00],\n",
              "       [-2.07496758e+01, -1.48754883e+01],\n",
              "       [ 1.58380365e+01,  2.01124439e+01],\n",
              "       [ 7.75224388e-01, -5.38643360e+00],\n",
              "       [ 7.04108667e+00, -5.51760530e+00],\n",
              "       [-9.42155361e+00, -1.99772656e+00],\n",
              "       [ 1.03652391e+01,  1.45497351e+01],\n",
              "       [ 5.45965862e+00, -6.46722937e+00],\n",
              "       [ 2.26632290e+01,  1.22809401e+01],\n",
              "       [ 1.82552509e+01,  8.76487160e+00],\n",
              "       [ 1.15156355e+01,  2.01562977e+01],\n",
              "       [-8.18544865e+00, -5.74200094e-01],\n",
              "       [-2.61380148e+00,  4.86957502e+00],\n",
              "       [-6.24901485e+00, -7.31714821e+00],\n",
              "       [-1.19990091e+01, -6.13329744e+00],\n",
              "       [ 1.63556614e+01,  8.22313499e+00],\n",
              "       [-2.40576897e+01, -7.02149916e+00],\n",
              "       [-1.26604671e+01, -4.32978296e+00],\n",
              "       [-2.29889908e+01, -1.58564854e+01],\n",
              "       [-5.42651033e+00, -2.28406382e+00],\n",
              "       [ 1.08367109e+01,  1.18217111e+00],\n",
              "       [ 1.21177280e+00, -1.34798813e+00],\n",
              "       [-2.10934525e+01, -1.82476540e+01],\n",
              "       [ 7.62750006e+00, -9.16130483e-01],\n",
              "       [-8.41586304e+00, -3.05016279e+00],\n",
              "       [ 1.41983175e+01,  4.74209785e+00],\n",
              "       [-1.29631872e+01, -7.66147804e+00],\n",
              "       [ 1.98107243e+01,  2.05084648e+01],\n",
              "       [ 1.01303377e+01,  2.27414227e+01],\n",
              "       [ 3.81016374e+00, -6.23278713e+00],\n",
              "       [ 2.18586349e+00, -9.90068531e+00],\n",
              "       [-4.98568916e+00,  4.60448313e+00],\n",
              "       [-4.71097326e+00, -1.26924820e+01],\n",
              "       [-1.11701069e+01, -1.58459673e+01],\n",
              "       [ 1.84587173e+01,  1.90427380e+01],\n",
              "       [ 1.24633226e+01,  2.15450497e+01],\n",
              "       [-2.24629955e+01, -3.60023880e+00],\n",
              "       [ 2.14907789e+00,  8.30802822e+00],\n",
              "       [ 4.90568966e-01, -1.27994032e+01],\n",
              "       [-2.63990250e+01, -9.08905888e+00],\n",
              "       [-2.53482208e+01, -1.61578751e+01],\n",
              "       [-1.31718597e+01, -1.33807716e+01],\n",
              "       [ 4.20727205e+00, -1.26834698e+01],\n",
              "       [-1.84946632e+01, -1.11052990e+01],\n",
              "       [ 1.91743488e+01,  2.39507599e+01],\n",
              "       [-7.69044161e+00, -8.00971389e-01],\n",
              "       [ 1.85437546e+01,  9.78632259e+00],\n",
              "       [ 1.81077995e+01,  1.39451046e+01],\n",
              "       [ 1.50281782e+01,  1.46978550e+01],\n",
              "       [ 1.17879610e+01,  2.30832348e+01],\n",
              "       [ 9.90627575e+00,  4.25461102e+00],\n",
              "       [ 1.65504780e+01,  8.31586838e+00],\n",
              "       [-1.40174408e+01, -1.54863014e+01],\n",
              "       [-7.48140478e+00, -1.36904240e+01],\n",
              "       [-5.88652754e+00,  1.87377071e+00],\n",
              "       [-1.55242863e+01, -1.58121576e+01],\n",
              "       [ 8.35208988e+00,  1.69445000e+01],\n",
              "       [ 2.30034122e+01,  1.56397200e+01],\n",
              "       [ 9.85281277e+00,  9.16051769e+00],\n",
              "       [-5.40407658e-01,  7.68890047e+00],\n",
              "       [ 1.68972027e+00, -2.06539869e+00],\n",
              "       [-1.81173611e+01, -1.46545391e+01],\n",
              "       [-9.02642441e+00, -6.43762064e+00],\n",
              "       [ 1.97409725e+01,  1.24479799e+01],\n",
              "       [-1.71925659e+01, -1.08271255e+01],\n",
              "       [-9.93487835e+00,  7.53880858e-01],\n",
              "       [-2.03517570e+01, -2.06477699e+01],\n",
              "       [-1.07693303e+00, -1.77980065e+00],\n",
              "       [-1.57253170e+01, -1.27920170e+01],\n",
              "       [-1.98678493e+01, -3.01938248e+00],\n",
              "       [-1.45852880e+01, -9.85359764e+00],\n",
              "       [ 1.39949493e+01,  2.17196922e+01],\n",
              "       [ 1.66715698e+01,  1.35575762e+01],\n",
              "       [ 6.62748051e+00,  4.45440817e+00],\n",
              "       [ 2.00393219e+01,  1.26006956e+01],\n",
              "       [ 2.26903877e+01,  1.14946728e+01],\n",
              "       [-4.51160240e+00, -1.95269835e+00],\n",
              "       [ 1.17991409e+01,  2.41543865e+01],\n",
              "       [-1.03515797e+01, -1.24729691e+01],\n",
              "       [ 4.98213673e+00, -1.24754152e+01],\n",
              "       [-2.13779106e+01, -2.03358803e+01],\n",
              "       [ 7.68280458e+00,  1.63601704e+01],\n",
              "       [-2.96143398e+01, -9.73206615e+00],\n",
              "       [ 2.54744835e+01,  1.44949951e+01],\n",
              "       [ 2.21263599e+01,  1.52998810e+01],\n",
              "       [-1.11284294e+01, -1.51733065e+00],\n",
              "       [-1.04939156e+01, -1.16285248e+01],\n",
              "       [-5.77814937e-01, -8.74078035e-01],\n",
              "       [ 1.61631203e+00, -1.03312607e+01],\n",
              "       [ 2.41023331e+01,  1.71280804e+01],\n",
              "       [ 2.85895195e+01,  1.67269249e+01],\n",
              "       [-2.45308208e+01, -2.36204891e+01],\n",
              "       [-2.11239491e+01, -3.28107262e+00],\n",
              "       [ 2.60779476e+01,  1.51251335e+01],\n",
              "       [ 1.64439659e+01,  1.30032225e+01],\n",
              "       [ 1.40669708e+01,  5.23447609e+00],\n",
              "       [-2.87118530e+01, -6.01890373e+00],\n",
              "       [ 5.61249638e+00, -5.61346292e+00],\n",
              "       [-1.92032776e+01, -6.22769070e+00],\n",
              "       [ 1.87509785e+01,  1.51238031e+01],\n",
              "       [ 1.14468670e+01,  2.67468762e+00],\n",
              "       [ 1.21581993e+01,  8.73484898e+00],\n",
              "       [ 2.13625088e-01, -8.96767795e-01],\n",
              "       [-1.65508003e+01, -1.73216305e+01],\n",
              "       [-2.54384174e+01, -1.99109116e+01],\n",
              "       [-9.04298687e+00, -1.01885042e+01],\n",
              "       [ 7.83400869e+00, -4.14598989e+00],\n",
              "       [ 6.70316982e+00,  4.96025419e+00],\n",
              "       [ 2.85739827e+00,  4.42466688e+00],\n",
              "       [-2.32616520e+01, -2.09614239e+01],\n",
              "       [-3.00028648e+01, -6.50824451e+00],\n",
              "       [-1.12043791e+01, -5.80048561e+00],\n",
              "       [-2.52097206e+01, -9.74977398e+00],\n",
              "       [-1.81395264e+01, -1.29528389e+01],\n",
              "       [-2.70411892e+01, -2.17783279e+01],\n",
              "       [ 2.26881752e+01,  1.73418427e+01],\n",
              "       [ 1.23737993e+01,  2.63150930e+00],\n",
              "       [-2.44568329e+01, -2.04265327e+01],\n",
              "       [ 1.28213682e+01,  2.24441509e+01],\n",
              "       [ 4.07835293e+00, -9.33238983e+00],\n",
              "       [ 4.42601204e+00,  1.22053852e+01],\n",
              "       [-8.02563667e+00, -1.36898251e+01],\n",
              "       [-2.72741909e+01, -7.16214418e+00],\n",
              "       [ 3.53692985e+00,  5.25297976e+00],\n",
              "       [ 1.13573647e+01,  8.01300907e+00],\n",
              "       [-2.73251114e+01, -6.36159468e+00],\n",
              "       [ 2.52676239e+01,  1.49605331e+01],\n",
              "       [-1.51505213e+01, -1.30291452e+01],\n",
              "       [ 1.50366459e+01,  1.43087301e+01],\n",
              "       [-7.01538849e+00,  3.36980081e+00],\n",
              "       [-4.33288050e+00, -3.56009221e+00],\n",
              "       [-1.95941601e+01, -1.44735527e+01],\n",
              "       [ 2.63445454e+01,  1.19576712e+01],\n",
              "       [ 1.20767546e+01,  3.24619222e+00],\n",
              "       [ 1.01263847e+01, -3.31909084e+00],\n",
              "       [-1.95542412e+01, -1.29407883e+01],\n",
              "       [ 1.23877890e-01,  5.90252256e+00],\n",
              "       [-1.60942516e+01, -2.06148887e+00],\n",
              "       [ 1.59624541e+00,  1.58597112e-01],\n",
              "       [-2.29748745e+01, -8.06501102e+00],\n",
              "       [-2.43649998e+01, -9.01253796e+00],\n",
              "       [-2.50417614e+01, -1.84727345e+01],\n",
              "       [ 4.42557144e+00, -2.78756325e-03],\n",
              "       [-2.57078991e+01, -2.23040142e+01],\n",
              "       [-3.78557396e+00, -1.13270206e+01],\n",
              "       [-8.90908146e+00,  1.13992214e+00],\n",
              "       [ 1.33640709e+01,  7.63433409e+00],\n",
              "       [ 1.29963017e+01,  2.41073761e+01],\n",
              "       [ 1.06365023e+01,  2.02983932e+01],\n",
              "       [ 1.55528488e+01,  4.98385859e+00],\n",
              "       [ 1.20784264e+01,  1.98185425e+01],\n",
              "       [-1.41121845e+01, -1.45259018e+01],\n",
              "       [-2.52100239e+01, -7.34827328e+00],\n",
              "       [ 3.74549580e+00,  6.48809290e+00],\n",
              "       [ 1.35865917e+01,  1.44838419e+01],\n",
              "       [-1.34847670e+01, -6.95167732e+00],\n",
              "       [-3.86563182e+00, -6.95966196e+00],\n",
              "       [-2.10104599e+01, -1.36688023e+01],\n",
              "       [-2.24364624e+01, -1.78582935e+01],\n",
              "       [ 1.41839027e+00,  6.54246330e+00],\n",
              "       [-2.96879063e+01, -1.04906797e+01],\n",
              "       [ 2.15378170e+01,  1.31875772e+01],\n",
              "       [ 8.56964439e-02,  9.10511732e-01],\n",
              "       [ 2.48541203e+01,  1.25218792e+01],\n",
              "       [ 5.32654047e+00, -8.72681713e+00],\n",
              "       [-6.05738735e+00, -3.50688577e+00],\n",
              "       [-2.51928825e+01, -2.25452518e+01],\n",
              "       [-8.04820919e+00, -7.02118587e+00],\n",
              "       [ 1.79859905e+01,  1.01479168e+01],\n",
              "       [ 8.45027637e+00,  1.83439827e+01],\n",
              "       [ 3.38807178e+00,  6.89124346e+00],\n",
              "       [ 2.51034241e+01,  2.26923161e+01],\n",
              "       [ 2.31357841e+01,  1.42483997e+01],\n",
              "       [ 1.14464521e+01,  2.50401573e+01],\n",
              "       [-6.77232885e+00, -8.83586311e+00],\n",
              "       [ 6.09709883e+00,  1.29186907e+01],\n",
              "       [-2.36073437e+01, -1.53988628e+01],\n",
              "       [ 9.65915680e+00, -2.88442898e+00],\n",
              "       [-2.25329018e+01, -1.98269310e+01],\n",
              "       [-1.74379177e+01, -1.82049885e+01],\n",
              "       [ 7.78944063e+00,  2.99453950e+00],\n",
              "       [-1.88664222e+00, -1.07774515e+01],\n",
              "       [-2.78238506e+01, -4.66240883e+00],\n",
              "       [-2.49396286e+01, -5.53102970e+00],\n",
              "       [-1.84882870e+01, -5.96169329e+00],\n",
              "       [-1.64144936e+01, -1.19444818e+01],\n",
              "       [-9.76799071e-01, -1.15172043e+01],\n",
              "       [ 2.18066521e+01,  1.09080544e+01],\n",
              "       [-1.60788803e+01, -1.31588440e+01],\n",
              "       [ 3.75459337e+00,  2.36925507e+00],\n",
              "       [ 8.08059025e+00,  1.14457226e+01],\n",
              "       [ 2.39936752e+01,  2.35708618e+01],\n",
              "       [ 7.26504993e+00,  8.46136951e+00],\n",
              "       [-2.96176090e+01, -8.44873428e+00],\n",
              "       [ 1.08486443e+01,  3.17794085e+00],\n",
              "       [ 2.73458242e-01, -1.20110769e+01],\n",
              "       [-2.85068855e+01, -5.21781731e+00],\n",
              "       [-1.46058016e+01, -1.21535864e+01],\n",
              "       [-1.10449066e+01, -7.58057785e+00],\n",
              "       [-2.25247917e+01, -2.05700397e+01],\n",
              "       [ 2.48539619e+01,  2.41780739e+01],\n",
              "       [-9.77531719e+00, -1.07730522e+01],\n",
              "       [-1.02339602e+01, -1.36912451e+01],\n",
              "       [ 1.39611311e+01,  2.47692642e+01],\n",
              "       [ 1.43115997e+01,  1.50258818e+01],\n",
              "       [ 2.57136860e+01,  1.84826412e+01],\n",
              "       [-2.62037754e+01, -2.09377708e+01],\n",
              "       [ 1.81209469e+01,  2.47454224e+01],\n",
              "       [ 1.07645311e+01,  2.32560673e+01],\n",
              "       [ 1.98532715e+01,  1.81729126e+01],\n",
              "       [-2.78466511e+01, -1.06046591e+01],\n",
              "       [-1.75699463e+01, -1.30219917e+01],\n",
              "       [ 2.42871227e+01,  1.15320902e+01],\n",
              "       [-2.27021446e+01, -2.23753014e+01],\n",
              "       [ 7.69632387e+00,  4.09109175e-01],\n",
              "       [-2.36805267e+01, -4.59541416e+00],\n",
              "       [ 1.05911255e+01,  4.16641808e+00],\n",
              "       [ 7.19070292e+00, -1.49370432e+00],\n",
              "       [-1.91679077e+01, -1.59489985e+01],\n",
              "       [ 1.59550610e+01,  1.12216005e+01],\n",
              "       [-1.60870991e+01, -1.04008379e+01],\n",
              "       [ 2.23859806e+01,  2.42037086e+01],\n",
              "       [ 8.44902325e+00,  2.01632309e+01],\n",
              "       [ 8.69648647e+00,  1.93143070e+00],\n",
              "       [ 1.55819721e+01,  2.10211735e+01],\n",
              "       [-2.34915352e+01, -5.82661390e+00],\n",
              "       [-3.02809868e+01, -6.11798716e+00],\n",
              "       [ 3.63629603e+00, -2.64641643e-01],\n",
              "       [ 5.66842890e+00,  1.07382917e+01],\n",
              "       [-2.55708580e+01, -4.38128185e+00],\n",
              "       [ 2.35297298e+01,  1.09387016e+01],\n",
              "       [-1.07973707e+00, -4.31308889e+00],\n",
              "       [ 6.55978546e-02, -1.45014887e+01],\n",
              "       [ 6.04730225e+00,  1.30858641e+01],\n",
              "       [-2.15383625e+01, -1.94410267e+01],\n",
              "       [-1.82231922e+01, -1.40821772e+01],\n",
              "       [ 4.86348867e-01, -9.34494877e+00],\n",
              "       [ 1.65154228e+01,  1.91921215e+01],\n",
              "       [ 1.87821026e+01,  1.61932354e+01],\n",
              "       [ 1.17046700e+01,  4.12498713e+00],\n",
              "       [-4.75476456e+00, -3.50009584e+00],\n",
              "       [ 1.15003672e+01,  2.05983276e+01],\n",
              "       [ 1.52473440e+01,  6.38965368e+00],\n",
              "       [-2.05465088e+01, -2.20230770e+01],\n",
              "       [ 2.61282940e+01,  1.25731897e+01],\n",
              "       [-1.13166943e+01, -9.20364285e+00],\n",
              "       [-2.68126144e+01, -9.04871082e+00],\n",
              "       [ 1.44071455e+01,  7.86722088e+00],\n",
              "       [-1.36609030e+01, -1.14895220e+01],\n",
              "       [ 1.42948751e+01,  9.70157051e+00],\n",
              "       [ 9.30232620e+00,  1.06013811e+00],\n",
              "       [ 9.53580379e-01,  6.95564508e+00],\n",
              "       [ 2.01498604e+01,  2.03556423e+01],\n",
              "       [-2.41655998e+01, -2.28866119e+01],\n",
              "       [-1.03206491e+01, -1.26412859e+01],\n",
              "       [-1.91832027e+01, -6.99674702e+00],\n",
              "       [ 1.07594957e+01,  1.12478876e+01],\n",
              "       [-2.70851898e+01, -5.44745016e+00],\n",
              "       [-2.77027092e+01, -2.12000580e+01],\n",
              "       [-2.34043941e+01, -2.31163712e+01],\n",
              "       [ 1.07657499e+01,  1.70782814e+01],\n",
              "       [-3.30136395e+00, -1.55255389e+00],\n",
              "       [ 4.48509169e+00, -1.05258179e+01],\n",
              "       [-1.90124531e+01, -9.87619781e+00],\n",
              "       [-6.82943583e+00, -1.78301392e+01],\n",
              "       [ 1.71797585e+00,  4.67616272e+00],\n",
              "       [ 6.54044628e+00,  1.41140175e+01],\n",
              "       [-1.88553562e+01, -1.73083534e+01],\n",
              "       [ 1.02536592e+01,  2.14465523e+01],\n",
              "       [-2.04912205e+01, -1.56586428e+01],\n",
              "       [ 1.02380123e+01,  1.49812975e+01],\n",
              "       [ 1.69765625e+01,  1.50271912e+01],\n",
              "       [-2.98942351e+00,  1.96716321e+00],\n",
              "       [ 5.85523462e+00, -2.60359228e-01],\n",
              "       [ 8.77311611e+00,  3.81180263e+00],\n",
              "       [ 1.54228249e+01,  7.44669151e+00],\n",
              "       [ 2.44226818e+01,  1.31152763e+01],\n",
              "       [-1.45763607e+01, -9.00743198e+00],\n",
              "       [-1.63226147e+01, -1.14284792e+01],\n",
              "       [-1.98580341e+01, -1.61254349e+01],\n",
              "       [ 1.74928970e+01,  1.33434658e+01],\n",
              "       [-1.64430542e+01, -9.49314594e+00],\n",
              "       [-2.16083312e+00,  2.84566689e+00],\n",
              "       [ 8.65835488e-01,  8.79036522e+00],\n",
              "       [ 1.06293812e+01,  4.65501833e+00],\n",
              "       [-6.87453461e+00,  1.71171415e+00],\n",
              "       [ 8.24262524e+00,  3.78507376e+00],\n",
              "       [-6.50232744e+00, -3.05184960e+00],\n",
              "       [-2.53978348e+01, -1.72325554e+01],\n",
              "       [ 2.86095047e+01,  1.66859207e+01],\n",
              "       [ 1.35098581e+01, -2.40405059e+00],\n",
              "       [-2.79063759e+01, -8.12277031e+00],\n",
              "       [-1.83826804e+00, -1.54102957e+00],\n",
              "       [ 1.86654243e+01,  1.18080359e+01],\n",
              "       [-5.37290573e+00, -4.40713453e+00],\n",
              "       [-5.77548790e+00, -1.30568466e+01],\n",
              "       [-5.02533388e+00,  1.93194196e-01],\n",
              "       [ 4.58172750e+00, -4.81383562e+00],\n",
              "       [ 2.27758427e+01,  1.39949455e+01],\n",
              "       [-2.19318390e+00, -1.13392258e+01],\n",
              "       [ 1.57951260e+01,  9.11714458e+00],\n",
              "       [ 1.28555756e+01,  6.77203035e+00],\n",
              "       [ 2.46881828e+01,  1.82764282e+01],\n",
              "       [ 1.43110476e+01,  6.65652895e+00],\n",
              "       [ 2.40172176e+01,  1.00747261e+01],\n",
              "       [ 1.88507175e+01,  2.34119072e+01],\n",
              "       [ 9.76332664e+00,  2.31591663e+01],\n",
              "       [ 2.34961605e+00,  5.54012012e+00],\n",
              "       [ 2.47493229e+01,  1.77309837e+01],\n",
              "       [-1.68158321e+01, -1.45820503e+01],\n",
              "       [ 1.01860106e+00, -5.57255363e+00],\n",
              "       [-2.88274136e+01, -7.84687471e+00],\n",
              "       [ 1.34004221e+01,  2.11324644e+00],\n",
              "       [-2.68072987e+01, -1.85407047e+01],\n",
              "       [ 2.13768597e+01,  1.58039389e+01],\n",
              "       [ 5.11875486e+00,  1.17514858e+01],\n",
              "       [ 2.83761311e+00, -1.00123396e+01],\n",
              "       [ 1.60540104e+01,  1.78355904e+01],\n",
              "       [-1.94788761e+01, -2.05564251e+01],\n",
              "       [-2.26762986e+00, -6.43819046e+00],\n",
              "       [ 2.33404942e+01,  2.15802193e+01],\n",
              "       [ 2.06124668e+01,  1.20175514e+01],\n",
              "       [ 1.57485533e+00,  4.22495842e+00],\n",
              "       [ 1.36798239e+00, -1.35273380e+01],\n",
              "       [ 9.43444347e+00,  1.94532623e+01],\n",
              "       [-1.51995478e+01, -1.87006035e+01],\n",
              "       [-2.18035793e+01, -1.74583340e+01],\n",
              "       [-2.41782379e+00, -5.65951061e+00],\n",
              "       [-2.03293877e+01, -2.24909725e+01],\n",
              "       [-2.19697609e+01, -7.32296228e+00],\n",
              "       [ 1.39993823e+00, -1.46046267e+01],\n",
              "       [-1.83321476e+01, -1.27318277e+01],\n",
              "       [ 2.21135578e+01,  2.41409760e+01],\n",
              "       [ 2.86901331e+00, -1.06868477e+01],\n",
              "       [-2.31794224e+01, -5.07051182e+00],\n",
              "       [ 2.20725212e+01,  1.37043304e+01],\n",
              "       [ 1.61631508e+01,  9.64603329e+00],\n",
              "       [ 1.45346603e+01,  2.24889431e+01],\n",
              "       [ 2.32590222e+00, -1.63038528e+00],\n",
              "       [ 1.82094135e+01,  2.26955948e+01],\n",
              "       [ 1.17182751e+01,  1.74577274e+01],\n",
              "       [-5.50786400e+00,  4.99984407e+00],\n",
              "       [-1.42735691e+01, -4.58205175e+00],\n",
              "       [ 1.11227188e+01,  7.54387438e-01],\n",
              "       [ 1.07567978e+01,  5.57487965e+00],\n",
              "       [ 1.53050356e+01,  2.00261841e+01],\n",
              "       [-2.75766792e+01, -9.55488777e+00],\n",
              "       [-1.87209082e+00,  3.39440560e+00],\n",
              "       [ 2.21749535e+01,  1.63097000e+01],\n",
              "       [-5.55857196e-02,  6.85517120e+00],\n",
              "       [-3.55484299e-02, -2.78849173e+00],\n",
              "       [ 1.35544720e+01,  9.30821228e+00],\n",
              "       [-1.07341518e+01, -9.46405602e+00],\n",
              "       [ 2.82967138e+00,  5.77688122e+00],\n",
              "       [ 4.29802132e+00, -8.10424900e+00],\n",
              "       [ 3.88661098e+00,  2.67047715e+00],\n",
              "       [ 2.17064705e+01,  1.43835764e+01],\n",
              "       [-1.54287891e+01, -9.43353176e+00],\n",
              "       [-1.91916771e+01, -2.25864906e+01],\n",
              "       [ 1.26909618e+01,  1.63877773e+01],\n",
              "       [ 4.96200943e+00, -5.99479151e+00],\n",
              "       [-6.37299681e+00,  2.88029695e+00],\n",
              "       [ 1.14008512e+01,  1.18903790e+01],\n",
              "       [ 1.53340902e+01,  5.61190605e+00],\n",
              "       [-2.77142572e+00, -1.34724712e+01],\n",
              "       [-4.41155195e+00, -4.67425299e+00],\n",
              "       [-1.32549925e+01, -5.21477413e+00],\n",
              "       [ 1.04143753e+01,  3.18823427e-01],\n",
              "       [-7.96304655e+00, -1.26320572e+01],\n",
              "       [ 2.42510662e+01,  2.40084648e+01],\n",
              "       [ 1.80404854e+01,  1.81639500e+01],\n",
              "       [-1.37753954e+01, -8.29354954e+00],\n",
              "       [ 6.41223145e+00,  1.78034008e+00],\n",
              "       [ 6.64860010e+00, -9.11711693e+00],\n",
              "       [-1.31033983e+01, -9.32401466e+00],\n",
              "       [ 1.91212006e+01,  1.29280300e+01],\n",
              "       [ 1.95008869e+01,  1.37514324e+01],\n",
              "       [ 1.52387686e+01,  1.17718744e+01],\n",
              "       [ 2.40911465e+01,  1.54468346e+01],\n",
              "       [ 1.78508720e+01,  1.98345165e+01],\n",
              "       [ 4.91709566e+00, -1.66010284e+00],\n",
              "       [-2.10817547e+01, -1.31342220e+01],\n",
              "       [ 8.76660347e+00,  8.61736584e+00],\n",
              "       [-2.55237732e+01, -1.72788391e+01],\n",
              "       [ 4.67197150e-02, -1.66170284e-01],\n",
              "       [ 2.32819614e+01,  1.99108219e+01],\n",
              "       [ 1.42213571e+00, -6.42277718e+00],\n",
              "       [ 9.41962838e-01, -1.34878531e+01],\n",
              "       [ 2.52812138e+01,  1.29079590e+01],\n",
              "       [-2.30264606e+01, -1.65986862e+01],\n",
              "       [ 6.05599785e+00, -1.03818588e+01],\n",
              "       [ 1.99991646e+01,  1.50967140e+01],\n",
              "       [-3.55500174e+00, -1.31101351e+01],\n",
              "       [-7.15104294e+00, -1.28200903e+01],\n",
              "       [-2.53192539e+01, -3.77868009e+00],\n",
              "       [ 1.23603525e+01,  1.02763844e+01],\n",
              "       [ 2.00949097e+01,  1.37423201e+01],\n",
              "       [-2.17279205e+01, -2.12300014e+01],\n",
              "       [ 1.67151413e+01,  6.83415413e+00],\n",
              "       [-6.28309727e+00, -1.07194936e+00],\n",
              "       [ 6.03754902e+00,  3.93377513e-01],\n",
              "       [ 8.93489838e+00,  1.85357208e+01],\n",
              "       [ 1.77192802e+01,  2.12480831e+01],\n",
              "       [ 2.50177078e+01,  1.13666172e+01],\n",
              "       [-2.25237312e+01, -2.13300552e+01],\n",
              "       [ 2.32963772e+01,  2.13869781e+01],\n",
              "       [ 1.85894737e+01,  2.25549850e+01],\n",
              "       [-9.29120445e+00, -6.48879766e+00],\n",
              "       [-2.29292774e+01, -4.42353153e+00],\n",
              "       [-2.13104897e+01, -1.61549892e+01],\n",
              "       [-2.67152843e+01, -6.80264473e+00],\n",
              "       [-7.40265799e+00, -2.72484732e+00],\n",
              "       [ 1.32662983e+01,  2.47634411e+01],\n",
              "       [ 2.77077645e-01,  3.15251303e+00],\n",
              "       [-1.78717289e+01, -1.03791981e+01],\n",
              "       [ 8.82937050e+00,  1.40112915e+01],\n",
              "       [ 9.39741898e+00,  1.75865173e+01],\n",
              "       [-1.85206738e+01, -1.91855431e+01],\n",
              "       [ 1.32673349e+01,  7.70721102e+00],\n",
              "       [ 1.02076445e+01,  7.69581270e+00],\n",
              "       [ 4.16717577e+00,  8.25926304e+00],\n",
              "       [-2.66013451e+01, -6.09763813e+00],\n",
              "       [-8.83759916e-01, -1.24683619e+01],\n",
              "       [ 1.60932274e+01,  1.76527767e+01],\n",
              "       [-8.58480263e+00, -1.98999691e+00],\n",
              "       [ 6.05150938e+00, -3.92050266e+00],\n",
              "       [ 1.48195047e+01,  1.92638874e+01],\n",
              "       [-2.28769474e+01, -6.42739201e+00],\n",
              "       [ 2.20229321e+01,  1.88630028e+01],\n",
              "       [-1.47918949e+01, -1.84639587e+01],\n",
              "       [-9.24330330e+00, -1.38977079e+01],\n",
              "       [-2.19169483e+01, -1.99983845e+01],\n",
              "       [-2.42929306e+01, -2.13161659e+01],\n",
              "       [-2.31750011e+00,  8.93991756e+00],\n",
              "       [ 2.39332542e+01,  1.39279604e+01],\n",
              "       [ 9.37447906e-01,  4.86163139e+00],\n",
              "       [ 9.74475765e+00,  2.20739822e+01],\n",
              "       [ 2.47469425e+01,  1.46776228e+01],\n",
              "       [-6.97659063e+00, -2.06802487e+00],\n",
              "       [-2.55300083e+01, -9.05188179e+00],\n",
              "       [-1.15260906e+01, -1.57952681e+01],\n",
              "       [ 2.51194000e+01,  2.30704269e+01],\n",
              "       [ 2.52060814e+01,  2.24849319e+01],\n",
              "       [-1.51035910e+01, -1.40438166e+01],\n",
              "       [-5.30318356e+00, -7.57818127e+00],\n",
              "       [ 4.91037756e-01, -1.80022442e+00],\n",
              "       [-3.32150221e+00,  8.77548337e-01],\n",
              "       [-1.22215786e+01, -7.19159126e+00],\n",
              "       [-8.78526783e+00, -1.72738940e-01],\n",
              "       [ 2.08973026e+01,  1.79818401e+01],\n",
              "       [ 7.64849854e+00,  5.89040995e+00],\n",
              "       [ 1.06911917e+01, -3.49995089e+00],\n",
              "       [ 3.34263563e+00,  5.10635138e-01],\n",
              "       [ 9.71225452e+00,  1.85026550e+01],\n",
              "       [ 7.45772171e+00, -6.69250393e+00],\n",
              "       [ 1.81291599e+01,  1.88661747e+01],\n",
              "       [ 8.37056816e-01,  3.35018635e+00],\n",
              "       [-8.19291782e+00, -1.42576065e+01],\n",
              "       [-1.04535170e+01, -1.80761170e+00],\n",
              "       [-2.46901875e+01, -1.78063812e+01],\n",
              "       [ 2.15644264e+00, -8.99790859e+00],\n",
              "       [ 4.34955788e+00, -8.93311596e+00]], dtype=float32)"
            ]
          },
          "metadata": {
            "tags": []
          },
          "execution_count": 15
        }
      ]
    },
    {
      "cell_type": "markdown",
      "metadata": {
        "id": "OLA3cPRtZ_MY"
      },
      "source": [
        "5. Теперь обучите Kmeans еще раз задав оптимальное число кластеров. Визуализируйте полученное разбиение на преобразованном датасете tsne_representation (каждый из 2 \"сжатых\" признаков в таблице tsne_representation - это ось на графике). Пример визуализации:"
      ]
    },
    {
      "cell_type": "code",
      "metadata": {
        "id": "hsxvbrY5Z_MZ"
      },
      "source": [
        "km=KMeans(n_clusters=3,n_init=100,random_state=123)\n",
        "km.fit(tsne_representation)\n",
        "cluster_labels=km.labels_"
      ],
      "execution_count": null,
      "outputs": []
    },
    {
      "cell_type": "code",
      "metadata": {
        "id": "5LTk2P6JZ_MZ",
        "outputId": "fdc86fb5-6ce2-4e3e-c7d1-8e5205b09c1e"
      },
      "source": [
        "colors = cm.rainbow(np.linspace(0, 1, len(set(km.labels_))))\n",
        "\n",
        "for y, c in zip(set(km.labels_), colors):\n",
        "    plt.scatter(pd.DataFrame(tsne_representation)[0].loc[pd.DataFrame(km.labels_).values==y], \n",
        "                pd.DataFrame(tsne_representation)[1].loc[pd.DataFrame(km.labels_).values==y], color=c, alpha=0.5, label=str(y))\n",
        "plt.legend()\n"
      ],
      "execution_count": null,
      "outputs": [
        {
          "output_type": "execute_result",
          "data": {
            "text/plain": [
              "<matplotlib.legend.Legend at 0x16b53fe2a30>"
            ]
          },
          "metadata": {
            "tags": []
          },
          "execution_count": 17
        },
        {
          "output_type": "display_data",
          "data": {
            "image/png": "[encoded data removed]",
            "text/plain": [
              "<Figure size 864x648 with 1 Axes>"
            ]
          },
          "metadata": {
            "tags": []
          }
        }
      ]
    },
    {
      "cell_type": "markdown",
      "metadata": {
        "id": "hvTq51gAZ_Ma"
      },
      "source": [
        "### Теперь попробуем метод DBScan\n",
        "\n",
        "1. Визуализируйте параметр eps в цикле для разных min_samples(от 3 до 10)\n",
        "\n",
        "Выберите оптимальное значение min_samples и eps. Eps определите по методы локтя. Min_samples выбирайте исходя из 2 критериев: чем меньше оптимальное eps - тем лучше, чем больше точек по оси Х остается (не записывается в выбросы) - тем лучше."
      ]
    },
    {
      "cell_type": "code",
      "metadata": {
        "id": "cRdoqzh7Z_Mc",
        "outputId": "15297ec6-1597-429b-a25d-2afd3bcd98dd"
      },
      "source": [
        "from sklearn.neighbors import NearestNeighbors\n",
        "\n",
        "e = []\n",
        "min_samples = range(3, 11)\n",
        "for i in min_samples:\n",
        "    neigh = NearestNeighbors(n_neighbors=i)\n",
        "    nbrs = neigh.fit(nba)\n",
        "    distances, indices = nbrs.kneighbors(nba)\n",
        "    distances = np.sort(distances, axis=0)\n",
        "    distances = distances[:,1]\n",
        "    e.append(max(distances))\n",
        "plt.plot(min_samples, e)\n",
        "plt.xlabel('min_samples')\n",
        "plt.ylabel('e')\n"
      ],
      "execution_count": null,
      "outputs": [
        {
          "output_type": "execute_result",
          "data": {
            "text/plain": [
              "Text(0, 0.5, 'e')"
            ]
          },
          "metadata": {
            "tags": []
          },
          "execution_count": 43
        },
        {
          "output_type": "display_data",
          "data": {
            "image/png": "[encoded data removed]",
            "text/plain": [
              "<Figure size 864x648 with 1 Axes>"
            ]
          },
          "metadata": {
            "tags": []
          }
        }
      ]
    },
    {
      "cell_type": "markdown",
      "metadata": {
        "id": "FwIDZMoNZ_Md"
      },
      "source": [
        "Проанализируйте полученный результат и определите оптимальное число кластеров. Чему оно равно?"
      ]
    },
    {
      "cell_type": "markdown",
      "metadata": {
        "id": "LfmtmBDrZ_Md"
      },
      "source": [
        "2. Теперь обучите DBScan еще раз, задав оптимальное число кластеров. Визуализируйте полученное разбиение на преобразованном датасете tsne_representation (каждый из 2 \"сжатых\" признаков в таблице tsne_representation - это ось на графике). Пример визуализации:"
      ]
    },
    {
      "cell_type": "code",
      "metadata": {
        "id": "fAi72ioRZ_Me"
      },
      "source": [
        " db = DBSCAN(eps=0.855, min_samples=5).fit(tsne_representation)"
      ],
      "execution_count": null,
      "outputs": []
    },
    {
      "cell_type": "code",
      "metadata": {
        "id": "q4BUpgxWZ_Me",
        "outputId": "bd611471-2775-41eb-b2e5-6baf48dfae09"
      },
      "source": [
        "\n",
        "colors = cm.rainbow(np.linspace(0, 1, len(set(km.labels_))))\n",
        "\n",
        "for y, c in zip(set(db.labels_), colors):\n",
        "    plt.scatter(pd.DataFrame(tsne_representation)[0].loc[pd.DataFrame(db.labels_).values==y], \n",
        "                pd.DataFrame(tsne_representation)[1].loc[pd.DataFrame(db.labels_).values==y], color=c, alpha=0.5, label=str(y))\n",
        "plt.legend()\n"
      ],
      "execution_count": null,
      "outputs": [
        {
          "output_type": "execute_result",
          "data": {
            "text/plain": [
              "<matplotlib.legend.Legend at 0x18842cf5940>"
            ]
          },
          "metadata": {
            "tags": []
          },
          "execution_count": 49
        },
        {
          "output_type": "display_data",
          "data": {
            "image/png": "[encoded data removed]",
            "text/plain": [
              "<Figure size 864x648 with 1 Axes>"
            ]
          },
          "metadata": {
            "tags": []
          }
        }
      ]
    }
  ]
}